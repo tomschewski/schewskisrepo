{
 "cells": [
  {
   "cell_type": "code",
   "execution_count": 10,
   "metadata": {},
   "outputs": [
    {
     "ename": "AttributeError",
     "evalue": "module 'itk' has no attribute 'rgb2gray'",
     "output_type": "error",
     "traceback": [
      "\u001b[1;31m---------------------------------------------------------------------------\u001b[0m",
      "\u001b[1;31mAttributeError\u001b[0m                            Traceback (most recent call last)",
      "\u001b[1;32mc:\\Users\\Schewski\\Desktop\\schewskogit\\schewskisrepo\\Physic Lecture Series\\Image_analysis_biophysics\\deformation_field_elastix.ipynb Cell 1\u001b[0m in \u001b[0;36m<cell line: 10>\u001b[1;34m()\u001b[0m\n\u001b[0;32m      <a href='vscode-notebook-cell:/c%3A/Users/Schewski/Desktop/schewskogit/schewskisrepo/Physic%20Lecture%20Series/Image_analysis_biophysics/deformation_field_elastix.ipynb#W0sZmlsZQ%3D%3D?line=6'>7</a>\u001b[0m image2 \u001b[39m=\u001b[39m itk\u001b[39m.\u001b[39mimread(\u001b[39m'\u001b[39m\u001b[39mbeads0.tif\u001b[39m\u001b[39m'\u001b[39m)\n\u001b[0;32m      <a href='vscode-notebook-cell:/c%3A/Users/Schewski/Desktop/schewskogit/schewskisrepo/Physic%20Lecture%20Series/Image_analysis_biophysics/deformation_field_elastix.ipynb#W0sZmlsZQ%3D%3D?line=8'>9</a>\u001b[0m \u001b[39m# Convert the images to grayscale\u001b[39;00m\n\u001b[1;32m---> <a href='vscode-notebook-cell:/c%3A/Users/Schewski/Desktop/schewskogit/schewskisrepo/Physic%20Lecture%20Series/Image_analysis_biophysics/deformation_field_elastix.ipynb#W0sZmlsZQ%3D%3D?line=9'>10</a>\u001b[0m gray1 \u001b[39m=\u001b[39m itk\u001b[39m.\u001b[39;49mrgb2gray(image1)\n\u001b[0;32m     <a href='vscode-notebook-cell:/c%3A/Users/Schewski/Desktop/schewskogit/schewskisrepo/Physic%20Lecture%20Series/Image_analysis_biophysics/deformation_field_elastix.ipynb#W0sZmlsZQ%3D%3D?line=10'>11</a>\u001b[0m gray2 \u001b[39m=\u001b[39m itk\u001b[39m.\u001b[39mrgb2gray(image2)\n",
      "File \u001b[1;32mc:\\Users\\Schewski\\AppData\\Local\\Programs\\Python\\Python310\\lib\\site-packages\\itk\\support\\lazy.py:131\u001b[0m, in \u001b[0;36mLazyITKModule.__getattribute__\u001b[1;34m(self, attr)\u001b[0m\n\u001b[0;32m    130\u001b[0m \u001b[39mdef\u001b[39;00m \u001b[39m__getattribute__\u001b[39m(\u001b[39mself\u001b[39m, attr):\n\u001b[1;32m--> 131\u001b[0m     value \u001b[39m=\u001b[39m types\u001b[39m.\u001b[39;49mModuleType\u001b[39m.\u001b[39;49m\u001b[39m__getattribute__\u001b[39;49m(\u001b[39mself\u001b[39;49m, attr)\n\u001b[0;32m    132\u001b[0m     \u001b[39mif\u001b[39;00m value \u001b[39mis\u001b[39;00m not_loaded:\n\u001b[0;32m    133\u001b[0m         \u001b[39mwith\u001b[39;00m \u001b[39mtype\u001b[39m(\u001b[39mself\u001b[39m)\u001b[39m.\u001b[39mget_lock():  \u001b[39m# All but one thread will block here.\u001b[39;00m\n",
      "\u001b[1;31mAttributeError\u001b[0m: module 'itk' has no attribute 'rgb2gray'"
     ]
    }
   ],
   "source": [
    "import cv2\n",
    "import numpy as np\n",
    "import itk\n",
    "\n",
    "# Load the two input images using OpenCV\n",
    "image1 = itk.imread('reference.tif')\n",
    "image2 = itk.imread('beads0.tif')\n"
   ]
  },
  {
   "cell_type": "code",
   "execution_count": null,
   "metadata": {},
   "outputs": [],
   "source": [
    "itk.lucas"
   ]
  }
 ],
 "metadata": {
  "kernelspec": {
   "display_name": "Python 3",
   "language": "python",
   "name": "python3"
  },
  "language_info": {
   "codemirror_mode": {
    "name": "ipython",
    "version": 3
   },
   "file_extension": ".py",
   "mimetype": "text/x-python",
   "name": "python",
   "nbconvert_exporter": "python",
   "pygments_lexer": "ipython3",
   "version": "3.10.5"
  },
  "orig_nbformat": 4
 },
 "nbformat": 4,
 "nbformat_minor": 2
}
